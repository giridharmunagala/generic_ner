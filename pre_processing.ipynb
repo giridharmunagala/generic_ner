{
 "cells": [
  {
   "cell_type": "code",
   "execution_count": 1,
   "metadata": {
    "tags": []
   },
   "outputs": [
    {
     "name": "stdout",
     "output_type": "stream",
     "text": [
      "Requirement already satisfied: pandas in /home/chintoo/anaconda3/lib/python3.11/site-packages (2.0.3)\n",
      "Requirement already satisfied: python-dateutil>=2.8.2 in /home/chintoo/anaconda3/lib/python3.11/site-packages (from pandas) (2.8.2)\n",
      "Requirement already satisfied: pytz>=2020.1 in /home/chintoo/anaconda3/lib/python3.11/site-packages (from pandas) (2023.3.post1)\n",
      "Requirement already satisfied: tzdata>=2022.1 in /home/chintoo/anaconda3/lib/python3.11/site-packages (from pandas) (2023.3)\n",
      "Requirement already satisfied: numpy>=1.21.0 in /home/chintoo/anaconda3/lib/python3.11/site-packages (from pandas) (1.24.3)\n",
      "Requirement already satisfied: six>=1.5 in /home/chintoo/anaconda3/lib/python3.11/site-packages (from python-dateutil>=2.8.2->pandas) (1.16.0)\n"
     ]
    }
   ],
   "source": [
    "!pip install pandas "
   ]
  },
  {
   "cell_type": "code",
   "execution_count": 9,
   "metadata": {
    "tags": []
   },
   "outputs": [],
   "source": [
    "import pandas as pd\n",
    "import os\n",
    "import re\n",
    "from tqdm.notebook import tqdm_notebook"
   ]
  },
  {
   "cell_type": "code",
   "execution_count": 3,
   "metadata": {
    "tags": []
   },
   "outputs": [],
   "source": [
    "train_file = './data/supervised/train.txt'"
   ]
  },
  {
   "cell_type": "code",
   "execution_count": 7,
   "metadata": {
    "tags": []
   },
   "outputs": [],
   "source": [
    "with open(train_file,'r') as file:\n",
    "    lines = file.readlines()"
   ]
  },
  {
   "cell_type": "code",
   "execution_count": 24,
   "metadata": {
    "tags": []
   },
   "outputs": [],
   "source": [
    "sentences = [x.replace('#','') for x in ('###'.join(lines).split('###\\n###'))]"
   ]
  },
  {
   "cell_type": "code",
   "execution_count": 65,
   "metadata": {
    "tags": []
   },
   "outputs": [],
   "source": [
    "def get_sentence(sentence_stub):\n",
    "    return ' '.join([word_stub.split('\\t')[0] for word_stub in sentence_stub.strip().split('\\n')])\n",
    "        \n",
    "def get_tags(sentence):\n",
    "    tags = list()\n",
    "    current_tagged_part = ''\n",
    "    is_prev_tagged = False\n",
    "    prev_tag = None\n",
    "    try:\n",
    "        for tag in [x.split('\\t') for x in sentence.strip().split('\\n')]:\n",
    "            if tag[1].lower() != 'o':\n",
    "                if not is_prev_tagged:\n",
    "                    current_tagged_part = tag[0]\n",
    "                    is_prev_tagged = True\n",
    "                    prev_tag = tag[1]\n",
    "                elif prev_tag == tag[1]:\n",
    "                    current_tagged_part += ' ' + tag[0]\n",
    "                else:\n",
    "                    current_tagged_part = tag[0]\n",
    "                    is_prev_tagged = True\n",
    "                    prev_tag = tag[1]\n",
    "            elif is_prev_tagged:\n",
    "                tags.append((current_tagged_part, prev_tag))\n",
    "                current_tagged_part = ''\n",
    "                prev_tag = None\n",
    "                is_prev_tagged = False\n",
    "            else:\n",
    "                current_tagged_part = ''\n",
    "                prev_tag = None\n",
    "                is_prev_tagged = False\n",
    "        if is_prev_tagged:\n",
    "            tags.append((current_tagged_part,prev_tag))\n",
    "    except Exception as e:\n",
    "        return list()\n",
    "    return tags\n",
    "\n",
    "            \n",
    "\n"
   ]
  },
  {
   "cell_type": "code",
   "execution_count": 66,
   "metadata": {
    "tags": []
   },
   "outputs": [],
   "source": [
    "data = pd.DataFrame()"
   ]
  },
  {
   "cell_type": "code",
   "execution_count": 67,
   "metadata": {
    "tags": []
   },
   "outputs": [],
   "source": [
    "data['sentences'] = pd.Series(sentences).apply(get_sentence)"
   ]
  },
  {
   "cell_type": "code",
   "execution_count": 68,
   "metadata": {
    "tags": []
   },
   "outputs": [],
   "source": [
    "data['tags'] = pd.Series(sentences).apply(get_tags)"
   ]
  },
  {
   "cell_type": "code",
   "execution_count": 69,
   "metadata": {
    "tags": []
   },
   "outputs": [
    {
     "data": {
      "text/plain": [
       "0                                                        []\n",
       "1         [(Hicks, person-artist/author), (Ellaline Terr...\n",
       "2         [(Time, art-writtenart), (George Axelrod, pers...\n",
       "3                              [(IAEA, organization-other)]\n",
       "4         [(Church 's Chicken, organization-company), (T...\n",
       "                                ...                        \n",
       "131762    [(CBD, other-law), (World Intellectual Propert...\n",
       "131763                                                   []\n",
       "131764                                                   []\n",
       "131765                                                   []\n",
       "131766    [(Russian, location-GPE), (Persian, location-G...\n",
       "Name: tags, Length: 131767, dtype: object"
      ]
     },
     "execution_count": 69,
     "metadata": {},
     "output_type": "execute_result"
    }
   ],
   "source": [
    "data['tags']"
   ]
  },
  {
   "cell_type": "code",
   "execution_count": 58,
   "metadata": {
    "tags": []
   },
   "outputs": [
    {
     "data": {
      "text/plain": [
       "['Known\\tO',\n",
       " 'locally\\tO',\n",
       " 'as\\tO',\n",
       " '``\\tO',\n",
       " 'Fairbottom\\tproduct-other',\n",
       " 'Bobs\\tproduct-other',\n",
       " '``\\tO',\n",
       " 'it\\tO',\n",
       " 'is\\tO',\n",
       " 'now\\tO',\n",
       " 'preserved\\tO',\n",
       " 'at\\tO',\n",
       " 'the\\tO',\n",
       " 'Henry\\tbuilding-other',\n",
       " 'Ford\\tbuilding-other',\n",
       " 'Museum\\tbuilding-other',\n",
       " 'in\\tO',\n",
       " 'Dearborn\\tlocation-GPE',\n",
       " ',\\tO',\n",
       " 'Michigan\\tlocation-GPE',\n",
       " '.\\tO',\n",
       " '']"
      ]
     },
     "execution_count": 58,
     "metadata": {},
     "output_type": "execute_result"
    }
   ],
   "source": [
    "sentences[22].split('\\n')"
   ]
  },
  {
   "cell_type": "code",
   "execution_count": 21,
   "metadata": {
    "tags": []
   },
   "outputs": [
    {
     "name": "stdout",
     "output_type": "stream",
     "text": [
      "As\tO\n",
      "a\tO\n",
      "result\tO\n",
      "of\tO\n",
      "outdoing\tO\n",
      "the\tO\n",
      "competition\tO\n",
      ",\tO\n",
      "Binion\tperson-other\n",
      "received\tO\n",
      "death\tO\n",
      "threats\tO\n",
      ",\tO\n",
      "although\tO\n",
      "eventually\tO\n",
      "casinos\tO\n",
      "raised\tO\n",
      "their\tO\n",
      "limits\tO\n",
      "to\tO\n",
      "keep\tO\n",
      "up\tO\n",
      "with\tO\n",
      "him\tO\n",
      ".\tO\n",
      "\n"
     ]
    }
   ],
   "source": [
    "print(sentences[20].replace('#',''))"
   ]
  },
  {
   "cell_type": "code",
   "execution_count": 5,
   "metadata": {
    "tags": []
   },
   "outputs": [],
   "source": []
  },
  {
   "cell_type": "code",
   "execution_count": 49,
   "metadata": {},
   "outputs": [
    {
     "name": "stdout",
     "output_type": "stream",
     "text": [
      "('', 'O')\n",
      "\n",
      "('Its', 'O')\n",
      "\n",
      "('title', 'O')\n",
      "\n",
      "('is', 'O')\n",
      "\n",
      "('also', 'O')\n",
      "\n",
      "('seen', 'O')\n",
      "\n",
      "('as', 'O')\n",
      "\n",
      "('The', 'art-broadcastprogram')\n",
      "The\n",
      "('Gale', 'art-broadcastprogram')\n",
      "The Gale\n",
      "('Storm', 'art-broadcastprogram')\n",
      "The Gale Storm\n",
      "('Show', 'art-broadcastprogram')\n",
      "The Gale Storm Show\n",
      "(':', 'art-broadcastprogram')\n",
      "The Gale Storm Show :\n",
      "('Oh', 'art-broadcastprogram')\n",
      "The Gale Storm Show : Oh\n",
      "(',', 'art-broadcastprogram')\n",
      "The Gale Storm Show : Oh ,\n",
      "('Susanna', 'art-broadcastprogram')\n",
      "The Gale Storm Show : Oh , Susanna\n"
     ]
    },
    {
     "data": {
      "text/plain": [
       "[('The Gale Storm Show : Oh , Susanna', 'art-broadcastprogram')]"
      ]
     },
     "execution_count": 49,
     "metadata": {},
     "output_type": "execute_result"
    }
   ],
   "source": [
    "get_tags([re.search('(.*)\\t(.*)',chunk).groups() for chunk in train_data[25].split('\\n') if chunk])"
   ]
  },
  {
   "cell_type": "code",
   "execution_count": 41,
   "metadata": {},
   "outputs": [
    {
     "data": {
      "text/plain": [
       "[('', 'O'),\n",
       " ('Its', 'O'),\n",
       " ('title', 'O'),\n",
       " ('is', 'O'),\n",
       " ('also', 'O'),\n",
       " ('seen', 'O'),\n",
       " ('as', 'O'),\n",
       " ('The', 'art-broadcastprogram'),\n",
       " ('Gale', 'art-broadcastprogram'),\n",
       " ('Storm', 'art-broadcastprogram'),\n",
       " ('Show', 'art-broadcastprogram'),\n",
       " (':', 'art-broadcastprogram'),\n",
       " ('Oh', 'art-broadcastprogram'),\n",
       " (',', 'art-broadcastprogram'),\n",
       " ('Susanna', 'art-broadcastprogram')]"
      ]
     },
     "execution_count": 41,
     "metadata": {},
     "output_type": "execute_result"
    }
   ],
   "source": [
    "[re.search('(.*)\\t(.*)',chunk).groups() for chunk in train_data[25].split('\\n') if chunk]"
   ]
  },
  {
   "cell_type": "code",
   "execution_count": null,
   "metadata": {},
   "outputs": [],
   "source": []
  }
 ],
 "metadata": {
  "kernelspec": {
   "display_name": "Python 3 (ipykernel)",
   "language": "python",
   "name": "python3"
  },
  "language_info": {
   "codemirror_mode": {
    "name": "ipython",
    "version": 3
   },
   "file_extension": ".py",
   "mimetype": "text/x-python",
   "name": "python",
   "nbconvert_exporter": "python",
   "pygments_lexer": "ipython3",
   "version": "3.11.5"
  }
 },
 "nbformat": 4,
 "nbformat_minor": 4
}
